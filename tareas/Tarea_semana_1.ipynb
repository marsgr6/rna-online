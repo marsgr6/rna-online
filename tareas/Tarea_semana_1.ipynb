{
 "cells": [
  {
   "cell_type": "markdown",
   "id": "e208fa2f",
   "metadata": {},
   "source": [
    "## Tarea: Implementación de un Perceptrón para Clasificación Binaria\n",
    "\n",
    "### Objetivo\n",
    "Desarrollar un perceptrón multicapa con una capa oculta para resolver un problema de clasificación binaria. Este ejercicio tiene como finalidad aplicar los conceptos clave de redes neuronales: funciones de activación, propagación hacia adelante, cálculo de error y ajuste de pesos mediante retropropagación, utilizando la biblioteca `scikit-learn`.\n",
    "\n",
    "### Instrucciones\n",
    "- Utiliza el conjunto de datos **Breast Cancer Wisconsin** disponible en `sklearn.datasets`.\n",
    "- Implementa un modelo de perceptrón con al menos una capa oculta.\n",
    "- Entrena el modelo con un conjunto de entrenamiento y evalúalo en un conjunto de prueba.\n",
    "- Visualiza la matriz de confusión y reporta las métricas de desempeño (precisión, recall, F1-score).\n",
    "- Comenta brevemente los resultados obtenidos.\n",
    "\n",
    "**Tiempo estimado:** 2 horas\n",
    "\n",
    "### Dataset\n",
    "\n",
    "El dataset **Breast Cancer Wisconsin**, disponible en `sklearn.datasets`, contiene datos clínicos utilizados para diagnosticar tumores mamarios como **malignos** o **benignos**, a partir de características extraídas de imágenes digitales de células obtenidas por aspiración con aguja fina (FNA).\n",
    "\n",
    "### 🔍 Descripción de las variables\n",
    "\n",
    "El dataset tiene **30 variables numéricas** (todas ya preprocesadas), agrupadas en **10 atributos básicos** calculados para **tres estadísticos**: *media*, *desviación estándar* y *valor peor* (\"worst\" o máximo).\n",
    "\n",
    "Aquí están los atributos y su agrupación:\n",
    "\n",
    "| Categoría             | Variable base       | Estadísticos disponibles |\n",
    "| --------------------- | ------------------- | ------------------------ |\n",
    "| 1. Tamaño del núcleo  | `radius`            | mean, se, worst          |\n",
    "| 2. Textura            | `texture`           | mean, se, worst          |\n",
    "| 3. Perímetro          | `perimeter`         | mean, se, worst          |\n",
    "| 4. Área               | `area`              | mean, se, worst          |\n",
    "| 5. Suavidad           | `smoothness`        | mean, se, worst          |\n",
    "| 6. Compacidad         | `compactness`       | mean, se, worst          |\n",
    "| 7. Concavidad         | `concavity`         | mean, se, worst          |\n",
    "| 8. Puntos cóncavos    | `concave points`    | mean, se, worst          |\n",
    "| 9. Simetría           | `symmetry`          | mean, se, worst          |\n",
    "| 10. Dimensión fractal | `fractal dimension` | mean, se, worst          |\n",
    "\n",
    "Estas variables permiten evaluar la forma, tamaño y consistencia del núcleo celular para predecir si un tumor es cancerígeno.\n",
    "\n",
    "### 🧪 Variable objetivo\n",
    "\n",
    "* `target`:\n",
    "\n",
    "  * 0 → **maligno** (malignant)\n",
    "  * 1 → **benigno** (benign)"
   ]
  },
  {
   "cell_type": "markdown",
   "id": "d552047e",
   "metadata": {},
   "source": [
    "## Reflexión\n",
    "Comente brevemente los resultados obtenidos: ¿el modelo clasificó correctamente la mayoría de los casos? ¿Qué métricas destacan? ¿Qué podría mejorar en una siguiente iteración?"
   ]
  }
 ],
 "metadata": {
  "kernelspec": {
   "display_name": "Python 3 (ipykernel)",
   "language": "python",
   "name": "python3"
  },
  "language_info": {
   "codemirror_mode": {
    "name": "ipython",
    "version": 3
   },
   "file_extension": ".py",
   "mimetype": "text/x-python",
   "name": "python",
   "nbconvert_exporter": "python",
   "pygments_lexer": "ipython3",
   "version": "3.9.18"
  }
 },
 "nbformat": 4,
 "nbformat_minor": 5
}
